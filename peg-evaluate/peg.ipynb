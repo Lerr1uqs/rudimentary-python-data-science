{
 "cells": [
  {
   "cell_type": "code",
   "execution_count": 18,
   "metadata": {},
   "outputs": [],
   "source": [
    "import pandas as pd\n",
    "import numpy as np"
   ]
  },
  {
   "cell_type": "markdown",
   "metadata": {},
   "source": [
    "PEG合理估值 = 市盈率 / 年化增长率\n",
    "\n",
    "比如年化29%的增长 这里的PEG 合理PE就是29\n",
    "\n",
    "PEG = 当前PE / 合理PE"
   ]
  },
  {
   "cell_type": "code",
   "execution_count": 19,
   "metadata": {},
   "outputs": [
    {
     "name": "stderr",
     "output_type": "stream",
     "text": [
      "/tmp/ipykernel_314312/2794063673.py:5: FutureWarning: 'AS' is deprecated and will be removed in a future version, please use 'YS' instead.\n",
      "  time_index = pd.date_range(start=start_date, end=end_date, freq='AS')\n"
     ]
    },
    {
     "data": {
      "text/plain": [
       "23.05626597086661"
      ]
     },
     "execution_count": 19,
     "metadata": {},
     "output_type": "execute_result"
    }
   ],
   "source": [
    "start_date = '2023-01-01'\n",
    "end_date = '2025-01-01'\n",
    "\n",
    "# freq=AS  Annual Start 以每年的第一个日期作为起点\n",
    "time_index = pd.date_range(start=start_date, end=end_date, freq='AS')\n",
    "\n",
    "expected_increase = [27.6, 21.9, 19.8]\n",
    "# 泸州老窖\n",
    "lzlj = pd.DataFrame(\n",
    "    data={\n",
    "        \"expected_inc\": expected_increase\n",
    "    },\n",
    "    index=time_index,\n",
    ")\n",
    "\n",
    "cur_pe = 19.8\n",
    "\n",
    "# 将预期增长率转换为百分比形式\n",
    "lzlj['expected_inc'] = lzlj['expected_inc'] / 100 + 1\n",
    "\n",
    "import math\n",
    "# 计算三年的复合年度增长率\n",
    "from typing import cast\n",
    "compound_growth_rate = cast(float, lzlj['expected_inc'].astype(float).prod())\n",
    "# 计算每年的年度复合增长率\n",
    "annual_compound_growth_rate = math.pow(compound_growth_rate, 1 / len(lzlj)) - 1\n",
    "reasonable_pe = annual_compound_growth_rate * 100\n",
    "reasonable_pe"
   ]
  },
  {
   "cell_type": "code",
   "execution_count": 20,
   "metadata": {},
   "outputs": [
    {
     "data": {
      "text/plain": [
       "0.8587687193155581"
      ]
     },
     "execution_count": 20,
     "metadata": {},
     "output_type": "execute_result"
    }
   ],
   "source": [
    "peg = cur_pe / reasonable_pe\n",
    "peg\n"
   ]
  },
  {
   "cell_type": "markdown",
   "metadata": {},
   "source": [
    "PEG < 0.5 极度低估\n",
    "0.5 <= PEG < 1 低估\n",
    "PEG = 1 ± 0.2 合理\n",
    "剩下为高估"
   ]
  }
 ],
 "metadata": {
  "kernelspec": {
   "display_name": "Python 3",
   "language": "python",
   "name": "python3"
  },
  "language_info": {
   "codemirror_mode": {
    "name": "ipython",
    "version": 3
   },
   "file_extension": ".py",
   "mimetype": "text/x-python",
   "name": "python",
   "nbconvert_exporter": "python",
   "pygments_lexer": "ipython3",
   "version": "3.11.8"
  }
 },
 "nbformat": 4,
 "nbformat_minor": 2
}
