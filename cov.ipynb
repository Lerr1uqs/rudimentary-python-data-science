{
 "cells": [
  {
   "cell_type": "markdown",
   "metadata": {},
   "source": [
    "$$ \\text{cov}(X, Y) = \\sum_{i=1}^{n} p_i(x_i - \\mu)(y_i - \\nu)     $$\n",
    "$$ p_i也就是f(x_i,y_i)这两个变量出现的概率                             $$     \n",
    "$$ {\\displaystyle \\operatorname {E} (X)=\\int _{\\Omega }X\\,dP=\\mu }  $$\n",
    "$$ {\\displaystyle \\operatorname {E} (Y)=\\int _{\\Omega }Y\\,dP=\\nu } $$\n",
    "\n",
    "这里用到了XY的加权平均(期望)\n",
    "\n",
    "# REF: https://www.zhihu.com/question/26235175\n",
    "协方差是用于衡量两个随机变量之间关系的统计量.\n",
    "协方差是两个统计量的取舍偏离样本的程序的乘积再对概率与加权平均值.\n",
    "\n",
    "协方差衡量了两个变量的变化趋势是否一致。\n",
    "- 如果两个变量的变化趋势相似，协方差为正；\n",
    "- 如果一个变量增大时另一个变量减小，协方差为负；\n",
    "- 如果两者独立，协方差为零。"
   ]
  },
  {
   "cell_type": "markdown",
   "metadata": {},
   "source": [
    "相关英语:\n",
    "- 协方差: covariance\n",
    "- 相关系数: correlation coefficient"
   ]
  },
  {
   "cell_type": "code",
   "execution_count": 2,
   "metadata": {},
   "outputs": [
    {
     "name": "stdout",
     "output_type": "stream",
     "text": [
      "[[ 2.5 -2.5]\n",
      " [-2.5  2.5]]\n"
     ]
    }
   ],
   "source": [
    "import numpy as np\n",
    "\n",
    "# 生成两个示例变量\n",
    "x = np.array([1, 2, 3, 4, 5])\n",
    "y = np.array([5, 4, 3, 2, 1])\n",
    "\n",
    "# 计算协方差矩阵\n",
    "cov_matrix = np.cov(x, y)\n",
    "\n",
    "# 打印协方差矩阵\n",
    "print(cov_matrix)"
   ]
  },
  {
   "cell_type": "code",
   "execution_count": 3,
   "metadata": {},
   "outputs": [
    {
     "name": "stdout",
     "output_type": "stream",
     "text": [
      "[[ 9.16666667 18.33681063]\n",
      " [18.33681063 36.6812701 ]]\n"
     ]
    }
   ],
   "source": [
    "x = np.arange(10)\n",
    "y = 2 * x + np.random.uniform(0, 0.1, size=10)\n",
    "cov_matrix = np.cov(x, y)\n",
    "print(cov_matrix)\n",
    "'''\n",
    "cov(x, x) cov(x, y)\n",
    "cov(y, x) cov(y, y) <- 这个更容易偏离期望 方差很大 波动性大 \n",
    "'''"
   ]
  },
  {
   "cell_type": "markdown",
   "metadata": {},
   "source": [
    "$$ \\text{cor}(X, Y) = \\frac{\\text{cov}(X, Y)}{\\sigma_X \\cdot \\sigma_Y} $$\n",
    "\n",
    "其中$\\sigma$是各自的标准差, 期望/标准差本质就是标准化的步骤\n",
    "\n",
    "conclude: 相关系数是协方差的标准化\n",
    "\n",
    "协方差矩阵如下 反映各个随机变量之间的协方差 ![](./assets/cov-matrix.png)"
   ]
  },
  {
   "cell_type": "code",
   "execution_count": 5,
   "metadata": {},
   "outputs": [
    {
     "data": {
      "text/plain": [
       "array([[1.        , 0.99999055],\n",
       "       [0.99999055, 1.        ]])"
      ]
     },
     "execution_count": 5,
     "metadata": {},
     "output_type": "execute_result"
    }
   ],
   "source": [
    "# 相关系数矩阵\n",
    "cc = np.corrcoef(x, y)\n",
    "cc"
   ]
  }
 ],
 "metadata": {
  "kernelspec": {
   "display_name": "Python 3",
   "language": "python",
   "name": "python3"
  },
  "language_info": {
   "codemirror_mode": {
    "name": "ipython",
    "version": 3
   },
   "file_extension": ".py",
   "mimetype": "text/x-python",
   "name": "python",
   "nbconvert_exporter": "python",
   "pygments_lexer": "ipython3",
   "version": "3.0.0"
  }
 },
 "nbformat": 4,
 "nbformat_minor": 2
}
